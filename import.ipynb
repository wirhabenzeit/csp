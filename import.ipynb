{
 "cells": [
  {
   "cell_type": "code",
   "execution_count": 4,
   "metadata": {},
   "outputs": [],
   "source": [
    "from scipy.io import loadmat\n",
    "import os\n",
    "import json\n",
    "import numpy as np"
   ]
  },
  {
   "cell_type": "code",
   "execution_count": 5,
   "metadata": {},
   "outputs": [],
   "source": [
    "def load(file, trainingProportion = .8):\n",
    "    d = loadmat(file, squeeze_me=True, struct_as_record=True)\n",
    "    annot = d[\"hgS_070000\"][\"properties\"][()][\"ApplicationData\"][()][\"DatatipInformation\"][()]\n",
    "    ys = d[\"hgS_070000\"][\"children\"][()][\"children\"][0][\"properties\"][0][\"YData\"][()][:9000].tolist()\n",
    "    name = file.split(\".\")[0].split(\"/\")[1] \n",
    "    split = \"train\" if np.random.rand() < trainingProportion else \"test\"\n",
    "    if \"_X\" in name or \"Katrin141\" in name or \"Katrin144\" in name or \"Katrin146\" in name or \"Katrin171\" in name:\n",
    "        split = \"exclude\"\n",
    "    return { \"signal\": ys, \"csp_label\": sorted([annot[0][\"Position\"][0], annot[1][\"Position\"][0]]), \"id\": name , \"split\": split }"
   ]
  },
  {
   "cell_type": "code",
   "execution_count": 6,
   "metadata": {},
   "outputs": [],
   "source": [
    "res = []\n",
    "files = os.listdir(\"MatlabFigures\")\n",
    "for file in files:\n",
    "    if file.endswith(\".fig\"):\n",
    "        res.append(load(\"MatlabFigures/\" + file))"
   ]
  },
  {
   "cell_type": "code",
   "execution_count": null,
   "metadata": {},
   "outputs": [],
   "source": [
    "json.dump(res, open(\"all_data.json\", \"w\"))"
   ]
  },
  {
   "cell_type": "code",
   "execution_count": null,
   "metadata": {},
   "outputs": [],
   "source": []
  }
 ],
 "metadata": {
  "kernelspec": {
   "display_name": "ml",
   "language": "python",
   "name": "python3"
  },
  "language_info": {
   "codemirror_mode": {
    "name": "ipython",
    "version": 3
   },
   "file_extension": ".py",
   "mimetype": "text/x-python",
   "name": "python",
   "nbconvert_exporter": "python",
   "pygments_lexer": "ipython3",
   "version": "3.11.5"
  }
 },
 "nbformat": 4,
 "nbformat_minor": 2
}
