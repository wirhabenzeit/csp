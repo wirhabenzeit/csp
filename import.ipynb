{
 "cells": [
  {
   "cell_type": "code",
   "execution_count": 92,
   "metadata": {},
   "outputs": [],
   "source": [
    "from scipy.io import loadmat\n",
    "import os\n",
    "import json\n",
    "import numpy as np"
   ]
  },
  {
   "cell_type": "code",
   "execution_count": 93,
   "metadata": {},
   "outputs": [],
   "source": [
    "def load(file, split=\"train\", truncate = 9000):\n",
    "    d = loadmat(file, squeeze_me=True, struct_as_record=True)\n",
    "    annot = d[\"hgS_070000\"][\"properties\"][()][\"ApplicationData\"][()][\"DatatipInformation\"][()]\n",
    "    ys = d[\"hgS_070000\"][\"children\"][()][\"children\"][0][\"properties\"][0][\"YData\"][()][:truncate].tolist()\n",
    "    name = file.split(\".\")[0].split(\"/\")[1] \n",
    "    return { \"signal\": ys, \"csp_label\": sorted([annot[0][\"Position\"][0], annot[1][\"Position\"][0]]), \"id\": name , \"split\": split }\n",
    "\n",
    "def save(files, json_file, labeler, **kwargs):\n",
    "    res = []\n",
    "    for file in files:\n",
    "        if file.endswith(\".fig\"):\n",
    "            name = file.split(\"/\")[1].split(\".\")[0]\n",
    "            split = labeler(name)\n",
    "            res.append(load(file, split=split, **kwargs))\n",
    "    json.dump(res, open(json_file, \"w\"))"
   ]
  },
  {
   "cell_type": "code",
   "execution_count": 95,
   "metadata": {},
   "outputs": [],
   "source": [
    "known_labels = {e[\"id\"]: e[\"split\"] for e in json.load(open('test_train_split.json'))}\n",
    "files = [f\"MatlabFigures/{file}\" for file in os.listdir(\"MatlabFigures\")]\n",
    "filesKatrin = [file for file in files if \"Katrin\" in file]\n",
    "filesAndre = [file for file in files if \"Andre\" in file]\n",
    "def labeler(name):\n",
    "    return known_labels[name]\n",
    "save(files, \"all_data.json\", labeler, truncate=3000)\n",
    "save(filesKatrin, \"katrin_data.json\", labeler, truncate=3000)\n",
    "save(filesAndre, \"andre_data.json\", labeler, truncate=3000)"
   ]
  }
 ],
 "metadata": {
  "kernelspec": {
   "display_name": "ml",
   "language": "python",
   "name": "python3"
  },
  "language_info": {
   "codemirror_mode": {
    "name": "ipython",
    "version": 3
   },
   "file_extension": ".py",
   "mimetype": "text/x-python",
   "name": "python",
   "nbconvert_exporter": "python",
   "pygments_lexer": "ipython3",
   "version": "3.11.5"
  }
 },
 "nbformat": 4,
 "nbformat_minor": 2
}
